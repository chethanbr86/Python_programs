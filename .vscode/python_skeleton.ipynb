{
 "cells": [
  {
   "cell_type": "markdown",
   "metadata": {},
   "source": [
    "### Input"
   ]
  },
  {
   "cell_type": "code",
   "execution_count": null,
   "metadata": {},
   "outputs": [],
   "source": [
    "t = int(input())  #no of test cases\n",
    "for i in range(t):\n",
    "    x = list(map(int,input().split())) #For a split like this, space is the separator\n",
    "    #or\n",
    "    x = [int(x) for x in input(\"Enter multiple values: \").split()] "
   ]
  },
  {
   "cell_type": "markdown",
   "metadata": {},
   "source": [
    "For input like: 5 7 19 20 and to be stored in a,b,c,d separately"
   ]
  },
  {
   "cell_type": "code",
   "execution_count": null,
   "metadata": {},
   "outputs": [],
   "source": [
    "import sys\n",
    "def get_ints(): return map(int, sys.stdin.readline().strip().split())\n",
    " \n",
    "a,b,c,d = get_ints()"
   ]
  },
  {
   "cell_type": "markdown",
   "metadata": {},
   "source": [
    "Inputs to be stored in list"
   ]
  },
  {
   "cell_type": "code",
   "execution_count": null,
   "metadata": {},
   "outputs": [],
   "source": [
    "import sys\n",
    "def get_ints(): return list(map(int, sys.stdin.readline().strip().split()))\n",
    " \n",
    "Arr = get_ints()"
   ]
  },
  {
   "cell_type": "markdown",
   "metadata": {},
   "source": [
    "To get input string in a single variable"
   ]
  },
  {
   "cell_type": "code",
   "execution_count": null,
   "metadata": {},
   "outputs": [],
   "source": [
    "\n",
    "import sys\n",
    "def get_string(): return sys.stdin.readline().strip()\n",
    " \n",
    "string = get_string()"
   ]
  },
  {
   "cell_type": "markdown",
   "metadata": {},
   "source": [
    "### Output "
   ]
  },
  {
   "cell_type": "markdown",
   "metadata": {},
   "source": [
    "output using end and separator"
   ]
  },
  {
   "cell_type": "code",
   "execution_count": null,
   "metadata": {},
   "outputs": [],
   "source": [
    "# code for disabling the softspace feature\n",
    "print('G', 'F', 'G', sep='')\n",
    " \n",
    "# using end argument\n",
    "print(\"Python\", end='@')\n",
    "print(\"GeeksforGeeks\")"
   ]
  },
  {
   "cell_type": "markdown",
   "metadata": {},
   "source": [
    "without newline"
   ]
  },
  {
   "cell_type": "code",
   "execution_count": null,
   "metadata": {},
   "outputs": [],
   "source": [
    "print(\"geeks\", end =\" \")\n",
    "print(\"geeksforgeeks\")\n",
    " \n",
    "# array\n",
    "a = [1, 2, 3, 4]\n",
    " \n",
    "# printing a element in same\n",
    "# line\n",
    "for i in range(4):\n",
    "    print(a[i], end =\" \")"
   ]
  },
  {
   "cell_type": "markdown",
   "metadata": {},
   "source": [
    "Same as above but without using for loop"
   ]
  },
  {
   "cell_type": "code",
   "execution_count": null,
   "metadata": {},
   "outputs": [],
   "source": [
    "l=[1,2,3,4,5,6]\n",
    " \n",
    "# using * symbol prints the list\n",
    "# elements in a single line\n",
    "print(l)\n",
    "print(*l)"
   ]
  },
  {
   "cell_type": "markdown",
   "metadata": {},
   "source": [
    "### For loops:"
   ]
  },
  {
   "cell_type": "code",
   "execution_count": null,
   "metadata": {},
   "outputs": [],
   "source": []
  },
  {
   "cell_type": "markdown",
   "metadata": {},
   "source": [
    "### Dictonaries:"
   ]
  }
 ],
 "metadata": {
  "language_info": {
   "name": "python"
  },
  "orig_nbformat": 4
 },
 "nbformat": 4,
 "nbformat_minor": 2
}

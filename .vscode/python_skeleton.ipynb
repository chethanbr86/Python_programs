{
 "cells": [
  {
   "cell_type": "markdown",
   "metadata": {},
   "source": [
    "### Input"
   ]
  },
  {
   "cell_type": "code",
   "execution_count": null,
   "metadata": {},
   "outputs": [],
   "source": [
    "t = int(input())  #no of test cases\n",
    "for i in range(t):\n",
    "    x = list(map(int,input().split())) #For a split like this, space is the separator\n",
    "    #or\n",
    "    x = [int(x) for x in input(\"Enter multiple values: \").split()] "
   ]
  },
  {
   "cell_type": "markdown",
   "metadata": {},
   "source": [
    "For input like: 5 7 19 20 and to be stored in a,b,c,d separately"
   ]
  },
  {
   "cell_type": "code",
   "execution_count": null,
   "metadata": {},
   "outputs": [],
   "source": [
    "import sys\n",
    "def get_ints(): return map(int, sys.stdin.readline().strip().split())\n",
    " \n",
    "a,b,c,d = get_ints()"
   ]
  },
  {
   "cell_type": "markdown",
   "metadata": {},
   "source": [
    "Inputs to be stored in list"
   ]
  },
  {
   "cell_type": "code",
   "execution_count": null,
   "metadata": {},
   "outputs": [],
   "source": [
    "import sys\n",
    "def get_ints(): return list(map(int, sys.stdin.readline().strip().split()))\n",
    " \n",
    "Arr = get_ints()"
   ]
  },
  {
   "cell_type": "markdown",
   "metadata": {},
   "source": [
    "### For loops:"
   ]
  },
  {
   "cell_type": "code",
   "execution_count": null,
   "metadata": {},
   "outputs": [],
   "source": []
  },
  {
   "cell_type": "markdown",
   "metadata": {},
   "source": [
    "### Dictonaries:"
   ]
  }
 ],
 "metadata": {
  "language_info": {
   "name": "python"
  },
  "orig_nbformat": 4
 },
 "nbformat": 4,
 "nbformat_minor": 2
}

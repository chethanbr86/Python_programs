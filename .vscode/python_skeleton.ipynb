{
 "cells": [
  {
   "cell_type": "markdown",
   "metadata": {},
   "source": [
    "### Input"
   ]
  },
  {
   "cell_type": "code",
   "execution_count": null,
   "metadata": {},
   "outputs": [],
   "source": [
    "t = int(input())  #no of test cases\n",
    "for i in range(t):\n",
    "    x = list(map(int,input().split())) #For a split like this, space is the separator\n",
    "    #or\n",
    "    x = [int(x) for x in input(\"Enter multiple values: \").split()] "
   ]
  },
  {
   "cell_type": "markdown",
   "metadata": {},
   "source": [
    "For input like: 5 7 19 20 and to be stored in a,b,c,d separately"
   ]
  },
  {
   "cell_type": "code",
   "execution_count": null,
   "metadata": {},
   "outputs": [],
   "source": [
    "import sys\n",
    "def get_ints(): return map(int, sys.stdin.readline().strip().split())\n",
    " \n",
    "a,b,c,d = get_ints()"
   ]
  },
  {
   "cell_type": "markdown",
   "metadata": {},
   "source": [
    "Inputs to be stored in list"
   ]
  },
  {
   "cell_type": "code",
   "execution_count": null,
   "metadata": {},
   "outputs": [],
   "source": [
    "import sys\n",
    "def get_ints(): return list(map(int, sys.stdin.readline().strip().split()))\n",
    " \n",
    "Arr = get_ints()"
   ]
  },
  {
   "cell_type": "markdown",
   "metadata": {},
   "source": [
    "To get input string in a single variable"
   ]
  },
  {
   "cell_type": "code",
   "execution_count": null,
   "metadata": {},
   "outputs": [],
   "source": [
    "\n",
    "import sys\n",
    "def get_string(): return sys.stdin.readline().strip()\n",
    " \n",
    "string = get_string()"
   ]
  },
  {
   "cell_type": "markdown",
   "metadata": {},
   "source": [
    "### Output "
   ]
  },
  {
   "cell_type": "markdown",
   "metadata": {},
   "source": [
    "output using end and separator"
   ]
  },
  {
   "cell_type": "code",
   "execution_count": null,
   "metadata": {},
   "outputs": [],
   "source": [
    "# code for disabling the softspace feature\n",
    "print('G', 'F', 'G', sep='')\n",
    " \n",
    "# using end argument\n",
    "print(\"Python\", end='@')\n",
    "print(\"GeeksforGeeks\")"
   ]
  },
  {
   "cell_type": "markdown",
   "metadata": {},
   "source": [
    "without newline"
   ]
  },
  {
   "cell_type": "code",
   "execution_count": null,
   "metadata": {},
   "outputs": [],
   "source": [
    "print(\"geeks\", end =\" \")\n",
    "print(\"geeksforgeeks\")\n",
    " \n",
    "# array\n",
    "a = [1, 2, 3, 4]\n",
    " \n",
    "# printing a element in same\n",
    "# line\n",
    "for i in range(4):\n",
    "    print(a[i], end =\" \")"
   ]
  },
  {
   "cell_type": "markdown",
   "metadata": {},
   "source": [
    "Same as above but without using for loop"
   ]
  },
  {
   "cell_type": "code",
   "execution_count": null,
   "metadata": {},
   "outputs": [],
   "source": [
    "l=[1,2,3,4,5,6]\n",
    " \n",
    "# using * symbol prints the list\n",
    "# elements in a single line\n",
    "print(l)\n",
    "print(*l)"
   ]
  },
  {
   "cell_type": "markdown",
   "metadata": {},
   "source": [
    "### Strings"
   ]
  },
  {
   "cell_type": "markdown",
   "metadata": {},
   "source": [
    "string alignment can be done as shown below"
   ]
  },
  {
   "cell_type": "code",
   "execution_count": null,
   "metadata": {},
   "outputs": [],
   "source": [
    "# String alignment\n",
    "String1 = \"|{:<10}|{:^10}|{:>10}|\".format('Geeks', 'for', 'Geeks')\n",
    "print(\"\\nLeft, center and right alignment with Formatting: \")\n",
    "print(String1)\n",
    " \n",
    "# To demonstrate aligning of spaces\n",
    "String1 = \"\\n{0:^16} was founded in {1:<4}!\".format(\"GeeksforGeeks\", 2009)\n",
    "print(String1)"
   ]
  },
  {
   "cell_type": "markdown",
   "metadata": {},
   "source": [
    "### Tuple"
   ]
  },
  {
   "cell_type": "markdown",
   "metadata": {},
   "source": [
    "creating tuple in different ways"
   ]
  },
  {
   "cell_type": "code",
   "execution_count": null,
   "metadata": {},
   "outputs": [],
   "source": [
    "Tuple1 = ('Geeks')\n",
    "print(\"Initial Tuple: \")\n",
    "print(Tuple1)\n",
    "\n",
    "Tuple2 = tuple('Geeks')\n",
    "print(\"\\nTuple with the use of function: \")\n",
    "print(Tuple2)\n",
    "\n",
    "#run and see difference"
   ]
  },
  {
   "cell_type": "markdown",
   "metadata": {},
   "source": [
    "unpacking tuples"
   ]
  },
  {
   "cell_type": "code",
   "execution_count": null,
   "metadata": {},
   "outputs": [],
   "source": [
    "Tuple1 = tuple(\"Geeks\")\n",
    "print(\"\\nFirst element of Tuple: \")\n",
    "print(Tuple1[0])\n",
    " \n",
    " \n",
    "# Tuple unpacking\n",
    "Tuple1 = (\"Geeks\", \"For\", \"Geeks\")\n",
    " \n",
    "# This line unpack\n",
    "# values of Tuple1\n",
    "a, b, c = Tuple1\n",
    "print(\"\\nValues after unpacking: \")\n",
    "print(a)\n",
    "print(b)\n",
    "print(c)"
   ]
  },
  {
   "cell_type": "markdown",
   "metadata": {},
   "source": [
    "### For loops:"
   ]
  },
  {
   "cell_type": "code",
   "execution_count": null,
   "metadata": {},
   "outputs": [],
   "source": []
  },
  {
   "cell_type": "markdown",
   "metadata": {},
   "source": [
    "### Dictonaries:"
   ]
  }
 ],
 "metadata": {
  "interpreter": {
   "hash": "1aaccd85870a7ff741b66db1b029251317066d0c1f91abf7bc962c270314f3e7"
  },
  "kernelspec": {
   "display_name": "Python 3.10.2 64-bit",
   "language": "python",
   "name": "python3"
  },
  "language_info": {
   "codemirror_mode": {
    "name": "ipython",
    "version": 3
   },
   "file_extension": ".py",
   "mimetype": "text/x-python",
   "name": "python",
   "nbconvert_exporter": "python",
   "pygments_lexer": "ipython3",
   "version": "3.9.7"
  },
  "orig_nbformat": 4
 },
 "nbformat": 4,
 "nbformat_minor": 2
}

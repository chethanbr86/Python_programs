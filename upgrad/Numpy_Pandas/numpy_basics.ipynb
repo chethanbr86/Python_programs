{
 "cells": [
  {
   "cell_type": "code",
   "execution_count": 3,
   "metadata": {},
   "outputs": [],
   "source": [
    "#Arrays are homogenous, i.e. all elements are of same type.\n",
    "\n",
    "import numpy as np"
   ]
  },
  {
   "cell_type": "code",
   "execution_count": 10,
   "metadata": {},
   "outputs": [
    {
     "name": "stdout",
     "output_type": "stream",
     "text": [
      "[1 2 3 4 5]\n",
      "<class 'numpy.ndarray'>\n",
      "int64\n",
      "(5,)\n",
      "5\n",
      "1\n",
      "8\n"
     ]
    }
   ],
   "source": [
    "list1 = [1,2,3,4,5]\n",
    "array_1d = np.array(list1)\n",
    "print(array_1d)\n",
    "print(type(array_1d))\n",
    "print(array_1d.dtype)\n",
    "print(array_1d.shape)\n",
    "print(array_1d.size)\n",
    "print(array_1d.ndim)\n",
    "print(array_1d.itemsize)"
   ]
  },
  {
   "cell_type": "code",
   "execution_count": 12,
   "metadata": {},
   "outputs": [
    {
     "name": "stdout",
     "output_type": "stream",
     "text": [
      "[[ 1  2  3  4  5]\n",
      " [ 6  7  8  9 10]]\n",
      "<class 'numpy.ndarray'>\n",
      "int64\n",
      "(2, 5)\n",
      "10\n",
      "2\n",
      "8\n"
     ]
    }
   ],
   "source": [
    "list2 = [6,7,8,9,10]\n",
    "array_2d = np.array([list1,list2])\n",
    "print(array_2d)\n",
    "print(type(array_2d))\n",
    "print(array_2d.dtype)\n",
    "print(array_2d.shape)\n",
    "print(array_2d.size)\n",
    "print(array_2d.ndim)\n",
    "print(array_2d.itemsize)"
   ]
  },
  {
   "cell_type": "code",
   "execution_count": 8,
   "metadata": {},
   "outputs": [
    {
     "name": "stdout",
     "output_type": "stream",
     "text": [
      "[[ 1  2  3  4  5]\n",
      " [ 6  7  8  9 10]\n",
      " [11 12 13 14 15]]\n",
      "<class 'numpy.ndarray'>\n",
      "int64\n",
      "(3, 5)\n",
      "15\n",
      "2\n",
      "8\n"
     ]
    }
   ],
   "source": [
    "list3 = [11,12,13,14,15]\n",
    "array_3d = np.array([list1,list2,list3])\n",
    "print(array_3d)\n",
    "print(type(array_3d))\n",
    "print(array_3d.dtype)\n",
    "print(array_3d.shape)\n",
    "print(array_3d.size)\n",
    "print(array_3d.ndim)\n",
    "print(array_3d.itemsize)"
   ]
  },
  {
   "cell_type": "code",
   "execution_count": 13,
   "metadata": {},
   "outputs": [
    {
     "name": "stdout",
     "output_type": "stream",
     "text": [
      "[6, 14, 24, 36, 50]\n"
     ]
    }
   ],
   "source": [
    "#Multiplying 2 lists in python way\n",
    "product1 = list(map(lambda x,y:x*y,list1,list2))\n",
    "print(product1)"
   ]
  },
  {
   "cell_type": "code",
   "execution_count": null,
   "metadata": {},
   "outputs": [
    {
     "name": "stdout",
     "output_type": "stream",
     "text": [
      "[ 6 14 24 36 50]\n",
      "[ 7  9 11 13 15]\n"
     ]
    }
   ],
   "source": [
    "#Multiplying 2 arrays in numpy way\n",
    "product2 = np.array(list1) * np.array(list2)\n",
    "print(product2)\n",
    "\n",
    "#Adding 2 arrays\n",
    "add1 = np.array(list1) + np.array(list2)\n",
    "print(add1)"
   ]
  },
  {
   "cell_type": "code",
   "execution_count": 28,
   "metadata": {},
   "outputs": [
    {
     "data": {
      "text/plain": [
       "array([ 1,  4,  9, 16, 25])"
      ]
     },
     "execution_count": 28,
     "metadata": {},
     "output_type": "execute_result"
    }
   ],
   "source": [
    "#Squaring arrays    \n",
    "square1 = np.array(list1) ** 2\n",
    "square1"
   ]
  },
  {
   "cell_type": "code",
   "execution_count": 19,
   "metadata": {},
   "outputs": [
    {
     "name": "stdout",
     "output_type": "stream",
     "text": [
      "[2 5 6 7]\n",
      "[4 5 8 9]\n"
     ]
    }
   ],
   "source": [
    "array_from_list = np.array([2, 5, 6, 7]) \n",
    "array_from_tuple = np.array((4, 5, 8, 9))\n",
    "print(array_from_list)\n",
    "print(array_from_tuple)"
   ]
  },
  {
   "cell_type": "code",
   "execution_count": 26,
   "metadata": {},
   "outputs": [
    {
     "data": {
      "text/plain": [
       "array([0., 0., 0., 0., 0.])"
      ]
     },
     "execution_count": 26,
     "metadata": {},
     "output_type": "execute_result"
    }
   ],
   "source": [
    "#Other ways of creating arrays\n",
    "arr1 = np.zeros(5)\n",
    "arr2 = np.ones([5,8], dtype=np.int64)\n",
    "arr1"
   ]
  },
  {
   "cell_type": "code",
   "execution_count": 27,
   "metadata": {},
   "outputs": [
    {
     "data": {
      "text/plain": [
       "array([[1, 1, 1, 1, 1, 1, 1, 1],\n",
       "       [1, 1, 1, 1, 1, 1, 1, 1],\n",
       "       [1, 1, 1, 1, 1, 1, 1, 1],\n",
       "       [1, 1, 1, 1, 1, 1, 1, 1],\n",
       "       [1, 1, 1, 1, 1, 1, 1, 1]])"
      ]
     },
     "execution_count": 27,
     "metadata": {},
     "output_type": "execute_result"
    }
   ],
   "source": [
    "arr2"
   ]
  },
  {
   "cell_type": "code",
   "execution_count": 31,
   "metadata": {},
   "outputs": [
    {
     "data": {
      "text/plain": [
       "array([[1, 1, 1, 1, 1, 1, 1, 1],\n",
       "       [1, 1, 1, 1, 1, 1, 1, 1],\n",
       "       [1, 1, 1, 1, 1, 1, 1, 1],\n",
       "       [1, 1, 1, 1, 1, 1, 1, 1],\n",
       "       [1, 1, 1, 1, 1, 1, 1, 1]])"
      ]
     },
     "execution_count": 31,
     "metadata": {},
     "output_type": "execute_result"
    }
   ],
   "source": [
    "np.ones((5,8), dtype=np.int64)"
   ]
  },
  {
   "cell_type": "code",
   "execution_count": 30,
   "metadata": {},
   "outputs": [
    {
     "data": {
      "text/plain": [
       "array([[0.65469522, 0.39723824, 0.65602931, 0.71697823, 0.43380531],\n",
       "       [0.44687525, 0.67354494, 0.36454656, 0.93240112, 0.40585867],\n",
       "       [0.27019907, 0.13985508, 0.66362164, 0.25787242, 0.70985652]])"
      ]
     },
     "execution_count": 30,
     "metadata": {},
     "output_type": "execute_result"
    }
   ],
   "source": [
    "np.random.random([3,5])"
   ]
  },
  {
   "cell_type": "code",
   "execution_count": 32,
   "metadata": {},
   "outputs": [
    {
     "data": {
      "text/plain": [
       "array([10, 15, 20, 25, 30, 35, 40, 45, 50, 55, 60, 65, 70, 75, 80, 85, 90,\n",
       "       95])"
      ]
     },
     "execution_count": 32,
     "metadata": {},
     "output_type": "execute_result"
    }
   ],
   "source": [
    "range1 = np.arange(10, 100, 5)\n",
    "range1"
   ]
  },
  {
   "cell_type": "code",
   "execution_count": 35,
   "metadata": {},
   "outputs": [
    {
     "data": {
      "text/plain": [
       "array([10. , 17.5, 25. , 32.5, 40. ])"
      ]
     },
     "execution_count": 35,
     "metadata": {},
     "output_type": "execute_result"
    }
   ],
   "source": [
    "linspace1 = np.linspace(10, 40, 5)\n",
    "linspace1"
   ]
  }
 ],
 "metadata": {
  "kernelspec": {
   "display_name": ".numpypanda",
   "language": "python",
   "name": "python3"
  },
  "language_info": {
   "codemirror_mode": {
    "name": "ipython",
    "version": 3
   },
   "file_extension": ".py",
   "mimetype": "text/x-python",
   "name": "python",
   "nbconvert_exporter": "python",
   "pygments_lexer": "ipython3",
   "version": "3.13.0"
  }
 },
 "nbformat": 4,
 "nbformat_minor": 2
}

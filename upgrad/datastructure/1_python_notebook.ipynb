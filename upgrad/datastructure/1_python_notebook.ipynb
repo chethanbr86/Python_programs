{
 "cells": [
  {
   "cell_type": "markdown",
   "metadata": {},
   "source": [
    "data structure"
   ]
  },
  {
   "cell_type": "markdown",
   "metadata": {},
   "source": [
    "### Tuples"
   ]
  },
  {
   "cell_type": "markdown",
   "metadata": {},
   "source": [
    "insert(), extend()"
   ]
  },
  {
   "cell_type": "code",
   "execution_count": 114,
   "metadata": {},
   "outputs": [
    {
     "name": "stdout",
     "output_type": "stream",
     "text": [
      "Monty Python\n"
     ]
    }
   ],
   "source": [
    "first_tuple = (\"Monty Python\", 30, \"Baker Street\", 5.8)\n",
    "print(first_tuple[0])"
   ]
  },
  {
   "cell_type": "code",
   "execution_count": 115,
   "metadata": {},
   "outputs": [
    {
     "name": "stdout",
     "output_type": "stream",
     "text": [
      "('Mumbai', 18.9949521, 72.8141853)\n"
     ]
    }
   ],
   "source": [
    "city_tuple = (\"Mumbai\", 18.9949521, 72.8141853) \n",
    "print(city_tuple)"
   ]
  },
  {
   "cell_type": "code",
   "execution_count": 116,
   "metadata": {},
   "outputs": [
    {
     "name": "stdout",
     "output_type": "stream",
     "text": [
      "('Mumbai', 18.9949521, 72.8141853)\n"
     ]
    }
   ],
   "source": [
    "new_tuple = city_tuple\n",
    "print(new_tuple)"
   ]
  },
  {
   "cell_type": "code",
   "execution_count": 117,
   "metadata": {},
   "outputs": [],
   "source": [
    "# new_tuple[1] = 13.8877 #Tuple doesn't support item assignment"
   ]
  },
  {
   "cell_type": "code",
   "execution_count": 118,
   "metadata": {},
   "outputs": [
    {
     "name": "stdout",
     "output_type": "stream",
     "text": [
      "('Mumbai', 18.9949521)\n",
      "2\n"
     ]
    }
   ],
   "source": [
    "b = city_tuple[:-1]\n",
    "print(b)\n",
    "print(len(b))"
   ]
  },
  {
   "cell_type": "code",
   "execution_count": 119,
   "metadata": {},
   "outputs": [
    {
     "name": "stdout",
     "output_type": "stream",
     "text": [
      "c is: ['Mumbai', 18.9949521]\n",
      "c is now a tuple: ('Mumbai', 18.9949521)\n"
     ]
    }
   ],
   "source": [
    "c = list(b)\n",
    "print(\"c is: {0}\".format(c))\n",
    "c= tuple(c)\n",
    "print(\"c is now a tuple: {0}\".format(c))"
   ]
  },
  {
   "cell_type": "markdown",
   "metadata": {},
   "source": [
    "### Lists"
   ]
  },
  {
   "cell_type": "markdown",
   "metadata": {},
   "source": [
    "append(), pop(), remove()"
   ]
  },
  {
   "cell_type": "code",
   "execution_count": 120,
   "metadata": {},
   "outputs": [
    {
     "name": "stdout",
     "output_type": "stream",
     "text": [
      "[]\n"
     ]
    }
   ],
   "source": [
    "initial_list = []\n",
    "print(initial_list)"
   ]
  },
  {
   "cell_type": "code",
   "execution_count": 121,
   "metadata": {},
   "outputs": [
    {
     "name": "stdout",
     "output_type": "stream",
     "text": [
      "['R', 'Python', 'SAS', 'Scala', 42]\n"
     ]
    }
   ],
   "source": [
    "DA_languages = ['R','Python', 'SAS', 'Scala', 42]\n",
    "print(DA_languages)"
   ]
  },
  {
   "cell_type": "code",
   "execution_count": 122,
   "metadata": {},
   "outputs": [
    {
     "data": {
      "text/plain": [
       "['R', 'Python', 'HTML', 'Scala', 42]"
      ]
     },
     "execution_count": 122,
     "metadata": {},
     "output_type": "execute_result"
    }
   ],
   "source": [
    "DA_languages[2] = 'HTML'\n",
    "DA_languages"
   ]
  },
  {
   "cell_type": "code",
   "execution_count": 123,
   "metadata": {},
   "outputs": [
    {
     "name": "stdout",
     "output_type": "stream",
     "text": [
      "R\n"
     ]
    }
   ],
   "source": [
    "print(DA_languages[0])"
   ]
  },
  {
   "cell_type": "code",
   "execution_count": 124,
   "metadata": {},
   "outputs": [
    {
     "name": "stdout",
     "output_type": "stream",
     "text": [
      "['Python', 'HTML']\n"
     ]
    }
   ],
   "source": [
    "print(DA_languages[1:3])"
   ]
  },
  {
   "cell_type": "code",
   "execution_count": 125,
   "metadata": {},
   "outputs": [
    {
     "name": "stdout",
     "output_type": "stream",
     "text": [
      "['R', 'Python']\n"
     ]
    }
   ],
   "source": [
    "print(DA_languages[0:2])"
   ]
  },
  {
   "cell_type": "code",
   "execution_count": 126,
   "metadata": {},
   "outputs": [
    {
     "name": "stdout",
     "output_type": "stream",
     "text": [
      "42\n"
     ]
    }
   ],
   "source": [
    "print(DA_languages[-1])"
   ]
  },
  {
   "cell_type": "code",
   "execution_count": 127,
   "metadata": {},
   "outputs": [
    {
     "name": "stdout",
     "output_type": "stream",
     "text": [
      "['HTML', 'Scala', 42]\n"
     ]
    }
   ],
   "source": [
    "print(DA_languages[2:])"
   ]
  },
  {
   "cell_type": "code",
   "execution_count": 128,
   "metadata": {},
   "outputs": [
    {
     "name": "stdout",
     "output_type": "stream",
     "text": [
      "['R', 'Python']\n"
     ]
    }
   ],
   "source": [
    "print(DA_languages[ : -3])"
   ]
  },
  {
   "cell_type": "code",
   "execution_count": 129,
   "metadata": {},
   "outputs": [
    {
     "name": "stdout",
     "output_type": "stream",
     "text": [
      "['R', 'Python', 'SAS', 'Scala', 42, 'Java']\n"
     ]
    }
   ],
   "source": [
    "DA_languages = ['R','Python', 'SAS', 'Scala', 42]\n",
    "DA_languages.append('Java')\n",
    "print(DA_languages)"
   ]
  },
  {
   "cell_type": "code",
   "execution_count": 130,
   "metadata": {},
   "outputs": [
    {
     "data": {
      "text/plain": [
       "'Java'"
      ]
     },
     "execution_count": 130,
     "metadata": {},
     "output_type": "execute_result"
    }
   ],
   "source": [
    "DA_languages.pop()"
   ]
  },
  {
   "cell_type": "code",
   "execution_count": 131,
   "metadata": {},
   "outputs": [
    {
     "name": "stdout",
     "output_type": "stream",
     "text": [
      "['Python', 'SAS', 'Scala', 42]\n"
     ]
    }
   ],
   "source": [
    "DA_languages.pop(0) \n",
    "print(DA_languages)"
   ]
  },
  {
   "cell_type": "code",
   "execution_count": 132,
   "metadata": {},
   "outputs": [
    {
     "name": "stdout",
     "output_type": "stream",
     "text": [
      "['Python', 'Scala', 42]\n"
     ]
    }
   ],
   "source": [
    "DA_languages.pop(1)\n",
    "print(DA_languages)"
   ]
  },
  {
   "cell_type": "code",
   "execution_count": 133,
   "metadata": {},
   "outputs": [
    {
     "name": "stdout",
     "output_type": "stream",
     "text": [
      "['Python', 'Scala', 42]\n"
     ]
    }
   ],
   "source": [
    "DA_languages.append('R')\n",
    "DA_languages.remove('R')\n",
    "print(DA_languages)"
   ]
  },
  {
   "cell_type": "code",
   "execution_count": 134,
   "metadata": {},
   "outputs": [
    {
     "name": "stdout",
     "output_type": "stream",
     "text": [
      "None\n"
     ]
    }
   ],
   "source": [
    "print(DA_languages.append('R'))"
   ]
  },
  {
   "cell_type": "code",
   "execution_count": 135,
   "metadata": {},
   "outputs": [
    {
     "name": "stdout",
     "output_type": "stream",
     "text": [
      "['Python', 'Scala', 42, 'R', 'Java']\n"
     ]
    }
   ],
   "source": [
    "new_list = DA_languages\n",
    "DA_languages.append('Java')\n",
    "print(new_list)"
   ]
  },
  {
   "cell_type": "code",
   "execution_count": 136,
   "metadata": {},
   "outputs": [
    {
     "name": "stdout",
     "output_type": "stream",
     "text": [
      "2126241122752\n"
     ]
    }
   ],
   "source": [
    "print(id(DA_languages))"
   ]
  },
  {
   "cell_type": "code",
   "execution_count": 137,
   "metadata": {},
   "outputs": [
    {
     "name": "stdout",
     "output_type": "stream",
     "text": [
      "2126241122752\n"
     ]
    }
   ],
   "source": [
    "print(id(new_list))"
   ]
  },
  {
   "cell_type": "code",
   "execution_count": 138,
   "metadata": {},
   "outputs": [
    {
     "name": "stdout",
     "output_type": "stream",
     "text": [
      "2126241486016\n"
     ]
    }
   ],
   "source": [
    "another_list = DA_languages.copy()\n",
    "print(id(another_list))"
   ]
  },
  {
   "cell_type": "code",
   "execution_count": 139,
   "metadata": {},
   "outputs": [],
   "source": [
    "a_sentence = \"Hi Saif, this is to inform you that I'm not well today.\""
   ]
  },
  {
   "cell_type": "code",
   "execution_count": 140,
   "metadata": {},
   "outputs": [
    {
     "name": "stdout",
     "output_type": "stream",
     "text": [
      "['Hi', 'Saif,', 'this', 'is', 'to', 'inform', 'you', 'that', \"I'm\", 'not', 'well', 'today.']\n"
     ]
    }
   ],
   "source": [
    "words_in_sentence = a_sentence.split() \n",
    "print(words_in_sentence)"
   ]
  },
  {
   "cell_type": "code",
   "execution_count": 141,
   "metadata": {},
   "outputs": [],
   "source": [
    "a_mail = \"Hi Saif, this is to inform you that I'm not well today. I won't be coming to office, but I'm available on call. Thanks.\""
   ]
  },
  {
   "cell_type": "code",
   "execution_count": 142,
   "metadata": {},
   "outputs": [
    {
     "name": "stdout",
     "output_type": "stream",
     "text": [
      "[\"Hi Saif, this is to inform you that I'm not well today\", \" I won't be coming to office, but I'm available on call\", ' Thanks', '']\n"
     ]
    }
   ],
   "source": [
    "sentences_in_mail = a_mail.split('.')\n",
    "print(sentences_in_mail)"
   ]
  },
  {
   "cell_type": "code",
   "execution_count": 143,
   "metadata": {},
   "outputs": [
    {
     "name": "stdout",
     "output_type": "stream",
     "text": [
      "Hi Saif, this is to inform you that I'm not well today  I won't be coming to office, but I'm available on call  Thanks \n"
     ]
    }
   ],
   "source": [
    "mail = \" \".join(sentences_in_mail)\n",
    "print(mail)"
   ]
  },
  {
   "cell_type": "code",
   "execution_count": 144,
   "metadata": {},
   "outputs": [
    {
     "name": "stdout",
     "output_type": "stream",
     "text": [
      "Hi Saif, this is to inform you that I'm not well today &  I won't be coming to office, but I'm available on call &  Thanks & \n"
     ]
    }
   ],
   "source": [
    "mail_new = \" & \".join(sentences_in_mail)\n",
    "print(mail_new)"
   ]
  },
  {
   "cell_type": "code",
   "execution_count": 145,
   "metadata": {},
   "outputs": [
    {
     "name": "stdout",
     "output_type": "stream",
     "text": [
      "['Hi', 'Hi', 'Hi', 'Hi', 'Hi']\n"
     ]
    }
   ],
   "source": [
    "my_list = [\"Hi\"]\n",
    "print(my_list*5)"
   ]
  },
  {
   "cell_type": "code",
   "execution_count": 146,
   "metadata": {},
   "outputs": [
    {
     "name": "stdout",
     "output_type": "stream",
     "text": [
      "['Hi', 'Hi']\n"
     ]
    }
   ],
   "source": [
    "print(my_list + my_list)"
   ]
  },
  {
   "cell_type": "code",
   "execution_count": 147,
   "metadata": {},
   "outputs": [
    {
     "name": "stdout",
     "output_type": "stream",
     "text": [
      "6\n"
     ]
    }
   ],
   "source": [
    "nums = [2,6,9,3,2,1]\n",
    "print(len(nums))"
   ]
  },
  {
   "cell_type": "code",
   "execution_count": 148,
   "metadata": {},
   "outputs": [
    {
     "name": "stdout",
     "output_type": "stream",
     "text": [
      "[1, 2, 2, 3, 6, 9]\n"
     ]
    }
   ],
   "source": [
    "print(sorted(nums))"
   ]
  },
  {
   "cell_type": "code",
   "execution_count": 149,
   "metadata": {},
   "outputs": [
    {
     "name": "stdout",
     "output_type": "stream",
     "text": [
      "9\n"
     ]
    }
   ],
   "source": [
    "print(max(nums))"
   ]
  },
  {
   "cell_type": "code",
   "execution_count": 150,
   "metadata": {},
   "outputs": [
    {
     "name": "stdout",
     "output_type": "stream",
     "text": [
      "1\n"
     ]
    }
   ],
   "source": [
    "print(min(nums))"
   ]
  },
  {
   "cell_type": "code",
   "execution_count": 151,
   "metadata": {},
   "outputs": [
    {
     "name": "stdout",
     "output_type": "stream",
     "text": [
      "[5, 6, 7]\n"
     ]
    }
   ],
   "source": [
    "nest = [[1, 2, 3, 4], [ 5, 6, 7], [8, 9, 10]]\n",
    "\n",
    "print(nest[1])"
   ]
  },
  {
   "cell_type": "code",
   "execution_count": 152,
   "metadata": {},
   "outputs": [
    {
     "name": "stdout",
     "output_type": "stream",
     "text": [
      "2\n"
     ]
    }
   ],
   "source": [
    "print(nest[0][1])"
   ]
  },
  {
   "cell_type": "code",
   "execution_count": 153,
   "metadata": {},
   "outputs": [
    {
     "name": "stdout",
     "output_type": "stream",
     "text": [
      "[[1, 2, 3, 4], [5, 6, 7]]\n"
     ]
    }
   ],
   "source": [
    "print(nest[0:2])"
   ]
  },
  {
   "cell_type": "markdown",
   "metadata": {},
   "source": [
    "### Dictonaries"
   ]
  },
  {
   "cell_type": "markdown",
   "metadata": {},
   "source": [
    "1. dict.update(new_dict) #like appending new dict\n",
    "2. del(key)\n",
    "3. dict[key] = [value]"
   ]
  },
  {
   "cell_type": "code",
   "execution_count": 154,
   "metadata": {},
   "outputs": [
    {
     "name": "stdout",
     "output_type": "stream",
     "text": [
      "<class 'dict'>\n"
     ]
    }
   ],
   "source": [
    "empty_dictionary = {}\n",
    "print(type(empty_dictionary))"
   ]
  },
  {
   "cell_type": "code",
   "execution_count": 155,
   "metadata": {},
   "outputs": [
    {
     "name": "stdout",
     "output_type": "stream",
     "text": [
      "{'Name': 'Bob Marley', 'Age': 35, 'Height': '5.6 ft', 'Hobby': 'Music'}\n"
     ]
    }
   ],
   "source": [
    "bio_data = {'Name': 'Bob Marley', 'Age':35, 'Height':\"5.6 ft\", 'Hobby': 'Music'}\n",
    "print(bio_data)"
   ]
  },
  {
   "cell_type": "code",
   "execution_count": 156,
   "metadata": {},
   "outputs": [],
   "source": [
    "credentials = { 'UserA' : 'wkliopnc' , 'UserB': 98760 , 'UserC' :98760 } "
   ]
  },
  {
   "cell_type": "code",
   "execution_count": 157,
   "metadata": {},
   "outputs": [
    {
     "name": "stdout",
     "output_type": "stream",
     "text": [
      "Music\n"
     ]
    }
   ],
   "source": [
    "hobby = bio_data['Hobby']\n",
    "print(hobby)"
   ]
  },
  {
   "cell_type": "code",
   "execution_count": 158,
   "metadata": {},
   "outputs": [
    {
     "name": "stdout",
     "output_type": "stream",
     "text": [
      "35\n"
     ]
    }
   ],
   "source": [
    "age = bio_data['Age']\n",
    "print(age)"
   ]
  },
  {
   "cell_type": "code",
   "execution_count": 159,
   "metadata": {},
   "outputs": [
    {
     "name": "stdout",
     "output_type": "stream",
     "text": [
      "35\n"
     ]
    }
   ],
   "source": [
    "age = bio_data.get('Age')\n",
    "print(age)"
   ]
  },
  {
   "cell_type": "code",
   "execution_count": 160,
   "metadata": {},
   "outputs": [
    {
     "name": "stdout",
     "output_type": "stream",
     "text": [
      "NA\n"
     ]
    }
   ],
   "source": [
    "profession  =  bio_data.get('Profession','NA')\n",
    "print(profession)"
   ]
  },
  {
   "cell_type": "code",
   "execution_count": 161,
   "metadata": {},
   "outputs": [
    {
     "name": "stdout",
     "output_type": "stream",
     "text": [
      "{'Name': 'Bob Marley', 'Age': 36, 'Height': '5.6 ft', 'Hobby': 'Music'}\n"
     ]
    }
   ],
   "source": [
    "bio_data['Age'] = 36\n",
    "print(bio_data)"
   ]
  },
  {
   "cell_type": "code",
   "execution_count": 162,
   "metadata": {},
   "outputs": [
    {
     "data": {
      "text/plain": [
       "{'Name': 'Bob Marley', 'Age': 36, 'Height': '5.6 ft', 'Hobby': 'Music'}"
      ]
     },
     "execution_count": 162,
     "metadata": {},
     "output_type": "execute_result"
    }
   ],
   "source": [
    "bio_data"
   ]
  },
  {
   "cell_type": "code",
   "execution_count": 163,
   "metadata": {},
   "outputs": [
    {
     "name": "stdout",
     "output_type": "stream",
     "text": [
      "{'Name': 'Bob Marley', 'Age': 36, 'Height': '5.6 ft', 'Hobby': 'Music', 'Profession': 'Singer'}\n"
     ]
    }
   ],
   "source": [
    "#add a key, val\n",
    "bio_data['Profession'] = 'Singer'\n",
    "print(bio_data)"
   ]
  },
  {
   "cell_type": "code",
   "execution_count": 164,
   "metadata": {},
   "outputs": [
    {
     "name": "stdout",
     "output_type": "stream",
     "text": [
      "{'Name': 'Bob Marley', 'Age': 36, 'Height': '5.6 ft', 'Hobby': 'Music', 'Profession': 'Professional Singer'}\n"
     ]
    }
   ],
   "source": [
    "#add a key, val\n",
    "bio_data['Profession'] = 'Professional Singer'\n",
    "print(bio_data)"
   ]
  },
  {
   "cell_type": "code",
   "execution_count": 165,
   "metadata": {},
   "outputs": [
    {
     "name": "stdout",
     "output_type": "stream",
     "text": [
      "True\n"
     ]
    }
   ],
   "source": [
    "print('Profession' in bio_data)"
   ]
  },
  {
   "cell_type": "code",
   "execution_count": 166,
   "metadata": {},
   "outputs": [
    {
     "name": "stdout",
     "output_type": "stream",
     "text": [
      "['Name', 'Age', 'Height', 'Hobby', 'Profession']\n",
      "['Bob Marley', 36, '5.6 ft', 'Music', 'Professional Singer']\n"
     ]
    }
   ],
   "source": [
    "#get list of keys\n",
    "print(list(bio_data.keys()))\n",
    "\n",
    "#get list of values\n",
    "print(list(bio_data.values()))"
   ]
  },
  {
   "cell_type": "code",
   "execution_count": 167,
   "metadata": {},
   "outputs": [],
   "source": [
    "new_dictionary = dict(Country='Jamaica', Songs=['One Love','Misty Morning'])"
   ]
  },
  {
   "cell_type": "code",
   "execution_count": 168,
   "metadata": {},
   "outputs": [
    {
     "name": "stdout",
     "output_type": "stream",
     "text": [
      "{'Name': 'Bob Marley', 'Age': 36, 'Height': '5.6 ft', 'Hobby': 'Music', 'Profession': 'Professional Singer', 'Country': 'Jamaica', 'Songs': ['One Love', 'Misty Morning']}\n"
     ]
    }
   ],
   "source": [
    "bio_data.update(new_dictionary)\n",
    "print(bio_data)"
   ]
  },
  {
   "cell_type": "code",
   "execution_count": 169,
   "metadata": {},
   "outputs": [
    {
     "name": "stdout",
     "output_type": "stream",
     "text": [
      "{'Name': 'Bob Marley', 'Age': 36, 'Height': '5.6 ft', 'Profession': 'Professional Singer', 'Country': 'Jamaica', 'Songs': ['One Love', 'Misty Morning']}\n"
     ]
    }
   ],
   "source": [
    "del bio_data['Hobby']\n",
    "print(bio_data)"
   ]
  },
  {
   "cell_type": "code",
   "execution_count": 170,
   "metadata": {},
   "outputs": [
    {
     "name": "stdout",
     "output_type": "stream",
     "text": [
      "{1: ['Shivam Bansal', 24], 2: ['Udit Bansal', 25], 3: ['Sonam Gupta', 26], 4: ['Saif Ansari', 24], 5: ['Huzefa Calcuttawala', 27]}\n"
     ]
    }
   ],
   "source": [
    "students_data = { 1:['Shivam Bansal', 24] , 2:['Udit Bansal',25], 3:['Sonam Gupta', 26], 4:['Saif Ansari',24], 5:['Huzefa Calcuttawala',27]}\n",
    "print(students_data)"
   ]
  },
  {
   "cell_type": "code",
   "execution_count": 171,
   "metadata": {},
   "outputs": [
    {
     "name": "stdout",
     "output_type": "stream",
     "text": [
      "5\n"
     ]
    }
   ],
   "source": [
    "print(len(students_data))"
   ]
  },
  {
   "cell_type": "code",
   "execution_count": 172,
   "metadata": {},
   "outputs": [
    {
     "name": "stdout",
     "output_type": "stream",
     "text": [
      "[['Shivam Bansal', 24], ['Udit Bansal', 25], ['Sonam Gupta', 26], ['Saif Ansari', 24], ['Huzefa Calcuttawala', 27]]\n"
     ]
    }
   ],
   "source": [
    "#see all the details of students. \n",
    "print(list(students_data.values()))"
   ]
  },
  {
   "cell_type": "code",
   "execution_count": 173,
   "metadata": {},
   "outputs": [
    {
     "name": "stdout",
     "output_type": "stream",
     "text": [
      "{1: ['Shivam Bansal', 24], 2: ['Udit Bansal', 25], 3: ['Sonam Gupta', 26], 4: ['Saif Ansari', 24], 5: ['Huzefa Calcuttawala', 27], 6: ['Manasi Sharma', 22]}\n"
     ]
    }
   ],
   "source": [
    "students_data[6] = ['Manasi Sharma', 22]\n",
    "print(students_data)"
   ]
  },
  {
   "cell_type": "code",
   "execution_count": 174,
   "metadata": {},
   "outputs": [
    {
     "name": "stdout",
     "output_type": "stream",
     "text": [
      "{1: ['Shivam Bansal', 24], 3: ['Sonam Gupta', 26], 4: ['Saif Ansari', 24], 5: ['Huzefa Calcuttawala', 27], 6: ['Manasi Sharma', 22]}\n"
     ]
    }
   ],
   "source": [
    "del students_data[2]\n",
    "print(students_data)"
   ]
  },
  {
   "cell_type": "code",
   "execution_count": 175,
   "metadata": {},
   "outputs": [
    {
     "name": "stdout",
     "output_type": "stream",
     "text": [
      "[1, 3, 4, 5, 6]\n"
     ]
    }
   ],
   "source": [
    "print(list(students_data.keys()))"
   ]
  },
  {
   "cell_type": "markdown",
   "metadata": {},
   "source": [
    "#### Dictonary example"
   ]
  },
  {
   "cell_type": "code",
   "execution_count": 176,
   "metadata": {},
   "outputs": [
    {
     "name": "stdout",
     "output_type": "stream",
     "text": [
      "1: Mike\n",
      "1: Link\n",
      "1: Sucre\n",
      "1: Sara\n",
      "2: 100\n",
      "2: 10\n",
      "2: 35\n",
      "2: 15\n",
      "3: Mike\n",
      "3: Link\n",
      "3: Sucre\n",
      "3: Sara\n",
      "4: 100\n",
      "4: 10\n",
      "4: 35\n",
      "4: 15\n",
      "5: Mike, 100\n",
      "5: Link, 10\n",
      "5: Sucre, 35\n",
      "5: Sara, 15\n",
      "6: 15\n"
     ]
    }
   ],
   "source": [
    "games = {'Mike':100, 'Link':10, 'Sucre':35, 'Sara': 15}\n",
    "\n",
    "#By default, python gives keys when not stated particularly\n",
    "for game in games:\n",
    "    print(f'1: {game}')\n",
    "\n",
    "#To get values\n",
    "for game in games:\n",
    "    print(f'2: {games[game]}')\n",
    "\n",
    "#You can mention particularly keys\n",
    "for key in games.keys():\n",
    "    print(f'3: {key}')\n",
    "\n",
    "#You can mention particularly values\n",
    "for val in games.values():\n",
    "    print(f'4: {val}')\n",
    "\n",
    "#Or both\n",
    "for key, val in games.items():\n",
    "    print(f'5: {key}, {val}')\n",
    "\n",
    "#get method\n",
    "for item in games:\n",
    "    k = games.get('Sara') #if key exists, value will be printed\n",
    "print(f'6: {k}')"
   ]
  },
  {
   "cell_type": "code",
   "execution_count": 177,
   "metadata": {},
   "outputs": [
    {
     "name": "stdout",
     "output_type": "stream",
     "text": [
      "{0: 2, 1: 1, 2: 3, 3: 1, 5: 2, 7: 1, 6: 1}\n"
     ]
    }
   ],
   "source": [
    "#count how many elements in the list with dictonary as output\n",
    "t = [0,1,2,2,3,0,5,7,6,5,2]\n",
    "hist = {}\n",
    "for x in t:\n",
    "    hist[x] = hist.get(x, 0) + 1\n",
    "print(hist)"
   ]
  },
  {
   "cell_type": "markdown",
   "metadata": {},
   "source": [
    "### Sets"
   ]
  },
  {
   "cell_type": "code",
   "execution_count": 178,
   "metadata": {},
   "outputs": [],
   "source": [
    "students_list = ['A','A','B','C','C','E','N']"
   ]
  },
  {
   "cell_type": "code",
   "execution_count": 179,
   "metadata": {},
   "outputs": [
    {
     "name": "stdout",
     "output_type": "stream",
     "text": [
      "{'C', 'A', 'N', 'E', 'B'}\n"
     ]
    }
   ],
   "source": [
    "students_set = set(students_list)\n",
    "print(students_set)"
   ]
  },
  {
   "cell_type": "code",
   "execution_count": 180,
   "metadata": {},
   "outputs": [
    {
     "name": "stdout",
     "output_type": "stream",
     "text": [
      "<class 'set'>\n"
     ]
    }
   ],
   "source": [
    "print(type(students_set))"
   ]
  },
  {
   "cell_type": "code",
   "execution_count": 181,
   "metadata": {},
   "outputs": [],
   "source": [
    "students_list_2 = ['A','N','F','N','G','A']"
   ]
  },
  {
   "cell_type": "code",
   "execution_count": 182,
   "metadata": {},
   "outputs": [],
   "source": [
    "students_set_2 = set(students_list_2)"
   ]
  },
  {
   "cell_type": "code",
   "execution_count": 183,
   "metadata": {},
   "outputs": [
    {
     "data": {
      "text/plain": [
       "{'A', 'F', 'G', 'N'}"
      ]
     },
     "execution_count": 183,
     "metadata": {},
     "output_type": "execute_result"
    }
   ],
   "source": [
    "students_set_2"
   ]
  },
  {
   "cell_type": "code",
   "execution_count": 184,
   "metadata": {},
   "outputs": [
    {
     "name": "stdout",
     "output_type": "stream",
     "text": [
      "{'N', 'A'}\n"
     ]
    }
   ],
   "source": [
    "print(students_set.intersection(students_set_2))"
   ]
  },
  {
   "cell_type": "code",
   "execution_count": 185,
   "metadata": {},
   "outputs": [
    {
     "name": "stdout",
     "output_type": "stream",
     "text": [
      "{'G', 'A', 'C', 'F', 'N', 'E', 'B'}\n"
     ]
    }
   ],
   "source": [
    "print(students_set.union(students_set_2))"
   ]
  },
  {
   "cell_type": "code",
   "execution_count": 186,
   "metadata": {},
   "outputs": [
    {
     "name": "stdout",
     "output_type": "stream",
     "text": [
      "{'E', 'C', 'B'}\n"
     ]
    }
   ],
   "source": [
    "print(students_set.difference(students_set_2))"
   ]
  },
  {
   "cell_type": "markdown",
   "metadata": {},
   "source": [
    "### If-Else"
   ]
  },
  {
   "cell_type": "code",
   "execution_count": 187,
   "metadata": {},
   "outputs": [],
   "source": [
    "score = int(input(\"Enter your test score : \"))\n",
    "passing = 40\n",
    "distinction = 90"
   ]
  },
  {
   "cell_type": "code",
   "execution_count": 188,
   "metadata": {},
   "outputs": [
    {
     "name": "stdout",
     "output_type": "stream",
     "text": [
      "You have passed!\n"
     ]
    }
   ],
   "source": [
    "if score >= distinction:\n",
    "    print(\"You're at the top! You’ve earned a distinction!\")\n",
    "\n",
    "if score >= passing and score < distinction:\n",
    "    print(\"You have passed!\")\n",
    "\n",
    "if score < passing:\n",
    "    print(\"Sorry! You have failed\")"
   ]
  },
  {
   "cell_type": "code",
   "execution_count": 189,
   "metadata": {},
   "outputs": [
    {
     "name": "stdout",
     "output_type": "stream",
     "text": [
      "Second Class\n"
     ]
    }
   ],
   "source": [
    "if score==100:\n",
    "    print(\"Perfect\")\n",
    "elif  90<=score<100:\n",
    "    print(\"Distinction\")\n",
    "elif 65<=score<90:\n",
    "    print(\"First Class\")\n",
    "elif 40<=score<65:\n",
    "    print(\"Second Class\")\n",
    "else:\n",
    "    print(\"Failed\")"
   ]
  },
  {
   "cell_type": "code",
   "execution_count": 190,
   "metadata": {},
   "outputs": [
    {
     "name": "stdout",
     "output_type": "stream",
     "text": [
      "Bad review!\n"
     ]
    }
   ],
   "source": [
    "statement = \"The coffee is bad\"\n",
    "if 'bad' in statement:\n",
    "    print(\"Bad review!\")\n",
    "\n",
    "statement2 = \"This phone works great\"\n",
    "if 'bad' in statement2:\n",
    "    print(\"This is not a bad review\")"
   ]
  },
  {
   "cell_type": "code",
   "execution_count": 191,
   "metadata": {},
   "outputs": [
    {
     "name": "stdout",
     "output_type": "stream",
     "text": [
      "Odd\n",
      "Not divisible by 3\n"
     ]
    }
   ],
   "source": [
    "num = int(input(\"Enter a number: \"))\n",
    "#enter 24\n",
    "if num%2==0:\n",
    "    print(\"Even\")\n",
    "    if num%4==0:\n",
    "        print(\"divisible by 4\")\n",
    "    else:\n",
    "        print(\"Not divisible by 4\")\n",
    "else:\n",
    "    print(\"Odd\")\n",
    "    if num%3==0:\n",
    "        print(\"Divisible by 3\")\n",
    "    else:\n",
    "        print(\"Not divisible by 3\")"
   ]
  },
  {
   "cell_type": "code",
   "execution_count": 192,
   "metadata": {},
   "outputs": [
    {
     "name": "stdout",
     "output_type": "stream",
     "text": [
      "Is False\n"
     ]
    }
   ],
   "source": [
    "if None:\n",
    "    print(\"Is True\")\n",
    "else:\n",
    "    print(\"Is False\")"
   ]
  },
  {
   "cell_type": "markdown",
   "metadata": {},
   "source": [
    "### For and While loops"
   ]
  },
  {
   "cell_type": "code",
   "execution_count": 193,
   "metadata": {},
   "outputs": [
    {
     "name": "stdout",
     "output_type": "stream",
     "text": [
      "1\n",
      "2\n",
      "3\n",
      "4\n"
     ]
    }
   ],
   "source": [
    "for i in range(1,5):\n",
    "    print(i)"
   ]
  },
  {
   "cell_type": "code",
   "execution_count": 194,
   "metadata": {},
   "outputs": [
    {
     "name": "stdout",
     "output_type": "stream",
     "text": [
      "1\n",
      "3\n",
      "5\n",
      "7\n",
      "9\n"
     ]
    }
   ],
   "source": [
    "for i in range(1,10,2):\n",
    "    print(i) "
   ]
  },
  {
   "cell_type": "code",
   "execution_count": 195,
   "metadata": {},
   "outputs": [
    {
     "name": "stdout",
     "output_type": "stream",
     "text": [
      "M\n",
      "a\n",
      "r\n",
      "y\n",
      " \n",
      "h\n",
      "a\n",
      "d\n",
      " \n",
      "a\n",
      " \n",
      "l\n",
      "i\n",
      "t\n",
      "t\n",
      "l\n",
      "e\n",
      " \n",
      "l\n",
      "a\n",
      "m\n",
      "b\n"
     ]
    }
   ],
   "source": [
    "#Looping on a string\n",
    "\n",
    "my_string = \"Mary had a little lamb\"\n",
    "\n",
    "for alphabet in my_string:\n",
    "    print(alphabet)"
   ]
  },
  {
   "cell_type": "code",
   "execution_count": 196,
   "metadata": {},
   "outputs": [
    {
     "data": {
      "text/plain": [
       "'\\n*\\n* *\\n* * *\\n* * * * \\n* * * * *\\n* * * *\\n* * *\\n* *\\n*\\n'"
      ]
     },
     "execution_count": 196,
     "metadata": {},
     "output_type": "execute_result"
    }
   ],
   "source": [
    "#pattern to print-\n",
    "'''\n",
    "*\n",
    "* *\n",
    "* * *\n",
    "* * * * \n",
    "* * * * *\n",
    "* * * *\n",
    "* * *\n",
    "* *\n",
    "*\n",
    "'''"
   ]
  },
  {
   "cell_type": "code",
   "execution_count": 197,
   "metadata": {},
   "outputs": [
    {
     "name": "stdout",
     "output_type": "stream",
     "text": [
      "* \n",
      "* * \n",
      "* * * \n",
      "* * * * \n",
      "* * * * * \n",
      "* * * * \n",
      "* * * \n",
      "* * \n",
      "* \n"
     ]
    }
   ],
   "source": [
    "str1=''\n",
    "for i in range(0,9):\n",
    "    if i<5:\n",
    "        str1 += '* '\n",
    "        print(str1)\n",
    "    elif i>4:\n",
    "        str1 = str1[:-2]\n",
    "        print(str1)"
   ]
  },
  {
   "cell_type": "code",
   "execution_count": 198,
   "metadata": {},
   "outputs": [
    {
     "name": "stdout",
     "output_type": "stream",
     "text": [
      "M 0\n",
      "a 1\n",
      "r 2\n",
      "y 3\n",
      "  4\n",
      "h 5\n",
      "a 6\n",
      "d 7\n",
      "  8\n",
      "a 9\n",
      "  10\n",
      "l 11\n",
      "i 12\n",
      "t 13\n",
      "t 14\n",
      "l 15\n",
      "e 16\n",
      "  17\n",
      "l 18\n",
      "a 19\n",
      "m 20\n",
      "b 21\n"
     ]
    }
   ],
   "source": [
    "my_string = \"Mary had a little lamb\"\n",
    "\n",
    "for n,alphabet in enumerate(my_string):\n",
    "    print(alphabet, n)"
   ]
  },
  {
   "cell_type": "code",
   "execution_count": 199,
   "metadata": {},
   "outputs": [
    {
     "name": "stdout",
     "output_type": "stream",
     "text": [
      " a a a i e a\n"
     ]
    }
   ],
   "source": [
    "vowels =''\n",
    "for alphabet in my_string:\n",
    "    if alphabet in 'aeiou':\n",
    "        vowels += ' ' + alphabet\n",
    "print(vowels)"
   ]
  },
  {
   "cell_type": "code",
   "execution_count": 200,
   "metadata": {},
   "outputs": [
    {
     "name": "stdout",
     "output_type": "stream",
     "text": [
      "All Evens are : 8884828028822 & All odds are : 33793731\n"
     ]
    }
   ],
   "source": [
    "nums = '838848237890237388221'\n",
    "all_even=''\n",
    "all_odd = ''\n",
    "for number in nums:\n",
    "    if int(number)%2 == 0:\n",
    "        all_even += number\n",
    "    else:\n",
    "        all_odd += number\n",
    "\n",
    "print('All Evens are : '+ all_even + ' & All odds are : '+ all_odd)"
   ]
  },
  {
   "cell_type": "code",
   "execution_count": 201,
   "metadata": {},
   "outputs": [],
   "source": [
    "list_of_inventories = ['Apple', 'Banana', 'Potato', 'Mango', 'Onion', 'Toothpaste']\n",
    "fruits = ['Apple','Banana','Mango','Orange','Strawberry']\n",
    "vegetables = ['Potato', 'Onion','Cucumber', 'Celery']"
   ]
  },
  {
   "cell_type": "code",
   "execution_count": 202,
   "metadata": {},
   "outputs": [
    {
     "name": "stdout",
     "output_type": "stream",
     "text": [
      "Apple\n",
      "Banana\n",
      "Potato\n",
      "Mango\n",
      "Onion\n",
      "Toothpaste\n",
      "3\n",
      "2\n"
     ]
    }
   ],
   "source": [
    "#count of fruits in inventory list\n",
    "count_fruits = 0\n",
    "#count of vegetables in inventory list\n",
    "count_veg = 0\n",
    "for item in list_of_inventories:\n",
    "    print(item)\n",
    "    if item in fruits:\n",
    "        count_fruits+=1\n",
    "    elif item in vegetables:\n",
    "        count_veg +=1\n",
    "    else:\n",
    "        continue\n",
    "print(count_fruits)\n",
    "print(count_veg)"
   ]
  },
  {
   "cell_type": "code",
   "execution_count": 203,
   "metadata": {},
   "outputs": [
    {
     "name": "stdout",
     "output_type": "stream",
     "text": [
      "Is\n",
      "Python\n",
      "simpler\n",
      "than\n",
      "R\n",
      "?\n"
     ]
    }
   ],
   "source": [
    "sentence = \"Is Python simpler than R ?\"\n",
    "for word in sentence.split():\n",
    "    print(word)"
   ]
  },
  {
   "cell_type": "code",
   "execution_count": 204,
   "metadata": {},
   "outputs": [
    {
     "name": "stdout",
     "output_type": "stream",
     "text": [
      "beautiful\n",
      "morning\n"
     ]
    }
   ],
   "source": [
    "#sentence check\n",
    "tweet = '#beautiful #morning it is looking good'\n",
    "\n",
    "for word in tweet.split():\n",
    "    if word.startswith('#'):\n",
    "        print(word[1:])"
   ]
  },
  {
   "cell_type": "code",
   "execution_count": 205,
   "metadata": {},
   "outputs": [],
   "source": [
    "students_data = {1:['Shivam Bansal', 24] , 2:['Udit Bansal',25], 3:['Sonam Gupta', 26], 4:['Saif Ansari',24], 5:['Huzefa Calcuttawala',27]}"
   ]
  },
  {
   "cell_type": "code",
   "execution_count": 206,
   "metadata": {},
   "outputs": [
    {
     "name": "stdout",
     "output_type": "stream",
     "text": [
      "1 ['Shivam Bansal', 24]\n",
      "2 ['Udit Bansal', 25]\n",
      "3 ['Sonam Gupta', 26]\n",
      "4 ['Saif Ansari', 24]\n",
      "5 ['Huzefa Calcuttawala', 27]\n"
     ]
    }
   ],
   "source": [
    "for key, val in students_data.items():\n",
    "    print(key, val)"
   ]
  },
  {
   "cell_type": "code",
   "execution_count": 207,
   "metadata": {},
   "outputs": [
    {
     "name": "stdout",
     "output_type": "stream",
     "text": [
      "1\n",
      "2\n",
      "3\n",
      "4\n",
      "5\n"
     ]
    }
   ],
   "source": [
    "for key in students_data.keys():\n",
    "    print(key)"
   ]
  },
  {
   "cell_type": "code",
   "execution_count": 208,
   "metadata": {},
   "outputs": [
    {
     "name": "stdout",
     "output_type": "stream",
     "text": [
      "['Shivam Bansal', 24]\n",
      "['Udit Bansal', 25]\n",
      "['Sonam Gupta', 26]\n",
      "['Saif Ansari', 24]\n",
      "['Huzefa Calcuttawala', 27]\n"
     ]
    }
   ],
   "source": [
    "for val in students_data.values():\n",
    "    print(val)"
   ]
  },
  {
   "cell_type": "code",
   "execution_count": 209,
   "metadata": {},
   "outputs": [
    {
     "name": "stdout",
     "output_type": "stream",
     "text": [
      "2\n"
     ]
    }
   ],
   "source": [
    "count = 0\n",
    "for key, val in students_data.items():\n",
    "    if val[1]<25:\n",
    "        count+=1\n",
    "\n",
    "print(count)"
   ]
  },
  {
   "cell_type": "code",
   "execution_count": 211,
   "metadata": {},
   "outputs": [
    {
     "name": "stdout",
     "output_type": "stream",
     "text": [
      "start: 21\n",
      "start: 22\n",
      "start: 23\n",
      "start: 24\n",
      "start: 25\n",
      "start: 26\n",
      "start: 27\n",
      "start: 28\n",
      "start: 29\n",
      "start: 30\n",
      "start: 31\n",
      "start: 32\n",
      "start: 33\n",
      "start: 34\n",
      "start: 35\n",
      "start: 36\n",
      "start: 37\n",
      "start: 38\n",
      "start: 39\n",
      "start: 40\n",
      "start: 41\n",
      "start: 42\n",
      "start: 43\n",
      "start: 44\n",
      "start: 45\n",
      "start: 46\n",
      "start: 47\n",
      "start: 48\n",
      "start: 49\n",
      "start: 50\n",
      "start: 51\n",
      "total: 1085\n"
     ]
    }
   ],
   "source": [
    "#while loop\n",
    "start =20\n",
    "total= 0\n",
    "while start<51:\n",
    "    total+=start\n",
    "    start+=1\n",
    "    print(f'start: {start}')\n",
    "\n",
    "print(f'total: {total}')"
   ]
  },
  {
   "cell_type": "markdown",
   "metadata": {},
   "source": [
    "#### for loop example"
   ]
  },
  {
   "cell_type": "code",
   "execution_count": 212,
   "metadata": {},
   "outputs": [
    {
     "name": "stdout",
     "output_type": "stream",
     "text": [
      "5\n",
      "3\n",
      "8\n",
      "2\n",
      "4\n",
      "6\n",
      "10\n",
      "range is  0\n",
      "number is 5\n",
      "range is  1\n",
      "number is 3\n",
      "range is  2\n",
      "number is 8\n",
      "range is  3\n",
      "number is 2\n",
      "range is  4\n",
      "number is 4\n",
      "range is  5\n",
      "number is 6\n",
      "range is  6\n",
      "number is 10\n",
      "0 5 0 5\n",
      "0 5 1 3\n",
      "0 5 2 8\n",
      "0 5 3 2\n",
      "0 5 4 4\n",
      "0 5 5 6\n",
      "0 5 6 10\n",
      "1 3 0 5\n",
      "1 3 1 3\n",
      "1 3 2 8\n",
      "1 3 3 2\n",
      "1 3 4 4\n",
      "1 3 5 6\n",
      "1 3 6 10\n",
      "2 8 0 5\n",
      "2 8 1 3\n",
      "2 8 2 8\n",
      "2 8 3 2\n",
      "2 8 4 4\n",
      "2 8 5 6\n",
      "2 8 6 10\n",
      "3 2 0 5\n",
      "3 2 1 3\n",
      "3 2 2 8\n",
      "3 2 3 2\n",
      "3 2 4 4\n",
      "3 2 5 6\n",
      "3 2 6 10\n",
      "4 4 0 5\n",
      "4 4 1 3\n",
      "4 4 2 8\n",
      "4 4 3 2\n",
      "4 4 4 4\n",
      "4 4 5 6\n",
      "4 4 6 10\n",
      "5 6 0 5\n",
      "5 6 1 3\n",
      "5 6 2 8\n",
      "5 6 3 2\n",
      "5 6 4 4\n",
      "5 6 5 6\n",
      "5 6 6 10\n",
      "6 10 0 5\n",
      "6 10 1 3\n",
      "6 10 2 8\n",
      "6 10 3 2\n",
      "6 10 4 4\n",
      "6 10 5 6\n",
      "6 10 6 10\n",
      "0 5 0 5\n",
      "0 5 1 3\n",
      "0 5 2 8\n",
      "0 5 3 2\n",
      "0 5 4 4\n",
      "0 5 5 6\n",
      "0 5 6 10\n",
      "1 3 0 5\n",
      "1 3 1 3\n",
      "1 3 2 8\n",
      "1 3 3 2\n",
      "1 3 4 4\n",
      "1 3 5 6\n",
      "1 3 6 10\n",
      "2 8 0 5\n",
      "2 8 1 3\n",
      "2 8 2 8\n",
      "2 8 3 2\n",
      "2 8 4 4\n",
      "2 8 5 6\n",
      "2 8 6 10\n",
      "3 2 0 5\n",
      "3 2 1 3\n",
      "3 2 2 8\n",
      "3 2 3 2\n",
      "3 2 4 4\n",
      "3 2 5 6\n",
      "3 2 6 10\n",
      "4 4 0 5\n",
      "4 4 1 3\n",
      "4 4 2 8\n",
      "4 4 3 2\n",
      "4 4 4 4\n",
      "4 4 5 6\n",
      "4 4 6 10\n",
      "5 6 0 5\n",
      "5 6 1 3\n",
      "5 6 2 8\n",
      "5 6 3 2\n",
      "5 6 4 4\n",
      "5 6 5 6\n",
      "5 6 6 10\n",
      "6 10 0 5\n",
      "6 10 1 3\n",
      "6 10 2 8\n",
      "6 10 3 2\n",
      "6 10 4 4\n",
      "6 10 5 6\n",
      "6 10 6 10\n",
      "38\n"
     ]
    }
   ],
   "source": [
    "li = [5,3,8,2,4,6,10]\n",
    "\n",
    "for i in li:\n",
    "    print(i)\n",
    "    \n",
    "for j in range(len(li)):\n",
    "    print('range is ', j)\n",
    "    print('number is', li[j])\n",
    "    \n",
    "for i in range(len(li)):\n",
    "    for j in range(len(li)):\n",
    "        print(i, li[i], j, li[j])\n",
    "        \n",
    "for i in range(len(li)):\n",
    "    for j in range(len(li)):\n",
    "        print(i, li[i], j, li[j])\n",
    "        \n",
    "sum_list = 0\n",
    "for i in li:\n",
    "    sum_list = sum_list + i\n",
    "print(sum_list)\n"
   ]
  },
  {
   "cell_type": "markdown",
   "metadata": {},
   "source": [
    "### Comprehensions"
   ]
  },
  {
   "cell_type": "code",
   "execution_count": 213,
   "metadata": {},
   "outputs": [
    {
     "name": "stdout",
     "output_type": "stream",
     "text": [
      "[1, 4, 9, 16, 25, 36, 49, 64, 81]\n"
     ]
    }
   ],
   "source": [
    "squares_list= []\n",
    "\n",
    "for x in range(1,10):\n",
    "    squares_list.append(x**2)\n",
    "print(squares_list)"
   ]
  },
  {
   "cell_type": "code",
   "execution_count": 214,
   "metadata": {},
   "outputs": [
    {
     "name": "stdout",
     "output_type": "stream",
     "text": [
      "[1, 4, 9, 16, 25, 36, 49, 64, 81]\n"
     ]
    }
   ],
   "source": [
    "squares_list = [x**2 for x in range(1,10)]\n",
    "print(squares_list)"
   ]
  },
  {
   "cell_type": "code",
   "execution_count": 215,
   "metadata": {},
   "outputs": [],
   "source": [
    "paragraph = [\"There was a fox.\" , 'It was brown in color.', \"It was seen near that farm sometime back\"]"
   ]
  },
  {
   "cell_type": "code",
   "execution_count": 216,
   "metadata": {},
   "outputs": [],
   "source": [
    "# ['There', 'was', 'a', 'fox.', 'It', 'was', 'brown', 'in', 'color.', 'It', 'was', 'seen', 'near', 'that', 'farm', 'sometime', 'back']"
   ]
  },
  {
   "cell_type": "code",
   "execution_count": 217,
   "metadata": {},
   "outputs": [
    {
     "name": "stdout",
     "output_type": "stream",
     "text": [
      "['There', 'was', 'a', 'fox.', 'It', 'was', 'brown', 'in', 'color.', 'It', 'was', 'seen', 'near', 'that', 'farm', 'sometime', 'back']\n"
     ]
    }
   ],
   "source": [
    "single_word_list =[]\n",
    "\n",
    "for sentence in paragraph:\n",
    "    for word in sentence.split():\n",
    "        single_word_list.append(word)\n",
    "\n",
    "print(single_word_list)"
   ]
  },
  {
   "cell_type": "code",
   "execution_count": 218,
   "metadata": {},
   "outputs": [
    {
     "name": "stdout",
     "output_type": "stream",
     "text": [
      "['There', 'was', 'a', 'fox.', 'It', 'was', 'brown', 'in', 'color.', 'It', 'was', 'seen', 'near', 'that', 'farm', 'sometime', 'back']\n"
     ]
    }
   ],
   "source": [
    "single_word_list  = [word for sentence in paragraph for word in sentence.split()]\n",
    "print(single_word_list)"
   ]
  },
  {
   "cell_type": "code",
   "execution_count": 219,
   "metadata": {},
   "outputs": [
    {
     "name": "stdout",
     "output_type": "stream",
     "text": [
      "['a', 'It', 'in', 'It']\n"
     ]
    }
   ],
   "source": [
    "#list comp with if statement\n",
    "vowels = ['a','e','i','o','u']\n",
    "vowels_from_sentence =[]\n",
    "for sentence in paragraph:\n",
    "    for word in sentence.split():\n",
    "        if word[0].lower() in vowels:\n",
    "            vowels_from_sentence.append(word)\n",
    "\n",
    "print(vowels_from_sentence)"
   ]
  },
  {
   "cell_type": "code",
   "execution_count": 220,
   "metadata": {},
   "outputs": [],
   "source": [
    "#[ for sentence in paragraph]\n",
    "#[ for sentence in paragraph for word in sentence.split()]"
   ]
  },
  {
   "cell_type": "code",
   "execution_count": 221,
   "metadata": {},
   "outputs": [
    {
     "name": "stdout",
     "output_type": "stream",
     "text": [
      "['a', 'It', 'in', 'It']\n"
     ]
    }
   ],
   "source": [
    "vowels_comp = [word for sentence in paragraph for word in sentence.split() if word[0].lower() in vowels]\n",
    "print(vowels_comp)"
   ]
  },
  {
   "cell_type": "code",
   "execution_count": 222,
   "metadata": {},
   "outputs": [
    {
     "name": "stdout",
     "output_type": "stream",
     "text": [
      "{0: 0, 1: 1, 2: 4, 3: 9, 4: 16, 5: 25, 6: 36, 7: 49, 8: 64, 9: 81, 10: 100, 11: 121, 12: 144, 13: 169, 14: 196, 15: 225, 16: 256, 17: 289, 18: 324, 19: 361, 20: 400, 21: 441, 22: 484, 23: 529, 24: 576}\n"
     ]
    }
   ],
   "source": [
    "squared_dictionary = {num : num**2 for num in range(0, 25)}\n",
    "print(squared_dictionary)"
   ]
  },
  {
   "cell_type": "code",
   "execution_count": 223,
   "metadata": {},
   "outputs": [],
   "source": [
    "students_data = {1:['Shivam Bansal', 24] , 2:['Udit Bansal',25], 3:['Sonam Gupta', 26], 4:['Saif Ansari',24], 5:['Huzefa Calcuttawala',27]}"
   ]
  },
  {
   "cell_type": "code",
   "execution_count": 224,
   "metadata": {},
   "outputs": [
    {
     "name": "stdout",
     "output_type": "stream",
     "text": [
      "{2: 'Udit Bansal', 4: 'Saif Ansari'}\n"
     ]
    }
   ],
   "source": [
    "names_dict ={}\n",
    "\n",
    "#iterate over each key, val pair\n",
    "for roll_num,details in students_data.items():\n",
    "    if roll_num%2==0:\n",
    "        names_dict[roll_num]= details[0]\n",
    "print(names_dict)"
   ]
  },
  {
   "cell_type": "code",
   "execution_count": 225,
   "metadata": {},
   "outputs": [
    {
     "name": "stdout",
     "output_type": "stream",
     "text": [
      "{2: 'Udit Bansal', 4: 'Saif Ansari'}\n"
     ]
    }
   ],
   "source": [
    "names_comp = {roll_num:details[0] for roll_num,details in students_data.items() if roll_num%2==0} #roll_num:details[0] means name and [1] means age\n",
    "print(names_comp)"
   ]
  },
  {
   "cell_type": "markdown",
   "metadata": {},
   "source": [
    "### Functions"
   ]
  },
  {
   "cell_type": "code",
   "execution_count": 226,
   "metadata": {},
   "outputs": [
    {
     "name": "stdout",
     "output_type": "stream",
     "text": [
      "Hello World\n"
     ]
    }
   ],
   "source": [
    "def scream():\n",
    "    print('Hello World')\n",
    "scream()"
   ]
  },
  {
   "cell_type": "code",
   "execution_count": 227,
   "metadata": {},
   "outputs": [],
   "source": [
    "def square(num):\n",
    "    out = num**2\n",
    "    return(out)"
   ]
  },
  {
   "cell_type": "code",
   "execution_count": 228,
   "metadata": {},
   "outputs": [
    {
     "name": "stdout",
     "output_type": "stream",
     "text": [
      "9\n"
     ]
    }
   ],
   "source": [
    "sq_3 = square(3)\n",
    "print(sq_3)"
   ]
  },
  {
   "cell_type": "code",
   "execution_count": 229,
   "metadata": {},
   "outputs": [],
   "source": [
    "def square(num):\n",
    "    out = num**2\n",
    "    print(out)"
   ]
  },
  {
   "cell_type": "code",
   "execution_count": 230,
   "metadata": {},
   "outputs": [
    {
     "name": "stdout",
     "output_type": "stream",
     "text": [
      "16\n",
      "Q isNone\n"
     ]
    }
   ],
   "source": [
    "q = square(4)\n",
    "print(\"Q is\"+str(q))"
   ]
  },
  {
   "cell_type": "code",
   "execution_count": 231,
   "metadata": {},
   "outputs": [
    {
     "name": "stdout",
     "output_type": "stream",
     "text": [
      "120\n"
     ]
    }
   ],
   "source": [
    "def factorial(n):\n",
    "    if n>1:\n",
    "        return n*factorial(n-1)\n",
    "    else:\n",
    "        return n\n",
    "\n",
    "fact = factorial(5)\n",
    "print(fact)"
   ]
  },
  {
   "cell_type": "code",
   "execution_count": 249,
   "metadata": {},
   "outputs": [
    {
     "name": "stdout",
     "output_type": "stream",
     "text": [
      "20\n"
     ]
    }
   ],
   "source": [
    "def factorial(n):\n",
    "    if n>1:\n",
    "        return n*(n-1) #without recurssion #i.e; wrong way\n",
    "    else:\n",
    "        return n\n",
    "\n",
    "fact = factorial(5)\n",
    "print(fact)"
   ]
  },
  {
   "cell_type": "code",
   "execution_count": 232,
   "metadata": {},
   "outputs": [],
   "source": [
    "def addition(*args):\n",
    "    print(args)\n",
    "    return(sum(args))"
   ]
  },
  {
   "cell_type": "code",
   "execution_count": 233,
   "metadata": {},
   "outputs": [
    {
     "name": "stdout",
     "output_type": "stream",
     "text": [
      "(4, 5, 6, 7, 8, 9)\n",
      "39\n",
      "(1, 2)\n",
      "3\n"
     ]
    }
   ],
   "source": [
    "print(addition(4,5,6,7,8,9))\n",
    "print(addition(1,2))"
   ]
  },
  {
   "cell_type": "code",
   "execution_count": 234,
   "metadata": {},
   "outputs": [
    {
     "name": "stdout",
     "output_type": "stream",
     "text": [
      "Mahendra Singh Dhoni\n"
     ]
    }
   ],
   "source": [
    "def proper(some_text):\n",
    "    some_text = some_text.strip()\n",
    "    some_text = \" \".join([word[0].upper() + word[1:] for word in some_text.split()])\n",
    "    return some_text\n",
    "\n",
    "captain = proper(\"mahendra singh dhoni\")\n",
    "print(captain)"
   ]
  },
  {
   "cell_type": "code",
   "execution_count": 235,
   "metadata": {},
   "outputs": [
    {
     "name": "stdout",
     "output_type": "stream",
     "text": [
      "['Mahendra', 'Singh', 'Dhoni']\n",
      "<class 'function'>\n"
     ]
    }
   ],
   "source": [
    "string_to_list = lambda x: x.split()\n",
    "print(string_to_list(captain))\n",
    "print(type(string_to_list))"
   ]
  },
  {
   "cell_type": "code",
   "execution_count": 236,
   "metadata": {},
   "outputs": [
    {
     "name": "stdout",
     "output_type": "stream",
     "text": [
      "12\n"
     ]
    }
   ],
   "source": [
    "product = lambda x, y : x*y\n",
    "print(product(3,4))"
   ]
  },
  {
   "cell_type": "markdown",
   "metadata": {},
   "source": [
    "### map filter reduce"
   ]
  },
  {
   "cell_type": "code",
   "execution_count": 254,
   "metadata": {},
   "outputs": [],
   "source": [
    "# first_list = [2, 4, 5]\n",
    "# print(first_list**2)\n",
    "#will get error"
   ]
  },
  {
   "cell_type": "code",
   "execution_count": 255,
   "metadata": {},
   "outputs": [],
   "source": [
    "first_list = [2, 4, 5]"
   ]
  },
  {
   "cell_type": "code",
   "execution_count": 256,
   "metadata": {},
   "outputs": [
    {
     "name": "stdout",
     "output_type": "stream",
     "text": [
      "<map object at 0x000001EF0D916560>\n"
     ]
    }
   ],
   "source": [
    "print(map(lambda x: x**2, first_list))"
   ]
  },
  {
   "cell_type": "code",
   "execution_count": 257,
   "metadata": {},
   "outputs": [
    {
     "name": "stdout",
     "output_type": "stream",
     "text": [
      "[4, 16, 25]\n"
     ]
    }
   ],
   "source": [
    "first_list = [2,4,5]\n",
    "print(list(map(lambda x: x**2, first_list)))"
   ]
  },
  {
   "cell_type": "code",
   "execution_count": 258,
   "metadata": {},
   "outputs": [],
   "source": [
    "# def squarelist(n):\n",
    "#     return n**2\n",
    "# print(squarelist(first_list))\n",
    "#again an error because of unsupported data types"
   ]
  },
  {
   "cell_type": "code",
   "execution_count": 259,
   "metadata": {},
   "outputs": [
    {
     "name": "stdout",
     "output_type": "stream",
     "text": [
      "[4, 16, 25]\n"
     ]
    }
   ],
   "source": [
    "def squareit(n):\n",
    "    return n**2\n",
    "print(list(map(squareit, first_list)))"
   ]
  },
  {
   "cell_type": "code",
   "execution_count": 260,
   "metadata": {},
   "outputs": [
    {
     "name": "stdout",
     "output_type": "stream",
     "text": [
      "[7, 10, 15, 14]\n"
     ]
    }
   ],
   "source": [
    "sums_list = [3,5,9,7]\n",
    "sums_list2 = (4,5,6,7)\n",
    "print(list(map(lambda x,y : x+y, sums_list,sums_list2)))"
   ]
  },
  {
   "cell_type": "code",
   "execution_count": 261,
   "metadata": {},
   "outputs": [
    {
     "name": "stdout",
     "output_type": "stream",
     "text": [
      "['Nikola Tesla', 'James Watt', 'Albert Einstein']\n"
     ]
    }
   ],
   "source": [
    "list_of_names = ['nikola', 'james', 'albert']\n",
    "list_of_names2 = ['tesla','watt','einstein']\n",
    "proper = lambda x, y: x[0].upper()+x[1:] +' '+ y[0].upper()+y[1:]\n",
    "print(list(map(proper, list_of_names,list_of_names2)))"
   ]
  },
  {
   "cell_type": "code",
   "execution_count": 262,
   "metadata": {},
   "outputs": [
    {
     "name": "stdout",
     "output_type": "stream",
     "text": [
      "[3, 6, 9]\n"
     ]
    }
   ],
   "source": [
    "#Filter\n",
    "divby3 = lambda x:  x % 3 == 0\n",
    "my_list = [3,4,5,6,7,8,9]\n",
    "div = filter(divby3, my_list)\n",
    "print(list(div))"
   ]
  },
  {
   "cell_type": "code",
   "execution_count": 263,
   "metadata": {},
   "outputs": [
    {
     "name": "stdout",
     "output_type": "stream",
     "text": [
      "6\n"
     ]
    }
   ],
   "source": [
    "#Reduce\n",
    "from functools import reduce\n",
    "q  = reduce(lambda x, y: x+y, range(1,4))\n",
    "print(q)"
   ]
  },
  {
   "cell_type": "code",
   "execution_count": 264,
   "metadata": {},
   "outputs": [
    {
     "name": "stdout",
     "output_type": "stream",
     "text": [
      "94\n"
     ]
    }
   ],
   "source": [
    "list_of_nums = [22,45,32,20,87,94,30]\n",
    "print(reduce(lambda x,y: x if x>y else y,list_of_nums))"
   ]
  }
 ],
 "metadata": {
  "kernelspec": {
   "display_name": ".numpypanda",
   "language": "python",
   "name": "python3"
  },
  "language_info": {
   "codemirror_mode": {
    "name": "ipython",
    "version": 3
   },
   "file_extension": ".py",
   "mimetype": "text/x-python",
   "name": "python",
   "nbconvert_exporter": "python",
   "pygments_lexer": "ipython3",
   "version": "3.13.0"
  }
 },
 "nbformat": 4,
 "nbformat_minor": 2
}
